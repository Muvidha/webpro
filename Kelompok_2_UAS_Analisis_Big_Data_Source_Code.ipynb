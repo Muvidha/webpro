{
  "cells": [
    {
      "cell_type": "markdown",
      "metadata": {
        "id": "view-in-github",
        "colab_type": "text"
      },
      "source": [
        "<a href=\"https://colab.research.google.com/github/Muvidha/webpro/blob/main/Kelompok_2_UAS_Analisis_Big_Data_Source_Code.ipynb\" target=\"_parent\"><img src=\"https://colab.research.google.com/assets/colab-badge.svg\" alt=\"Open In Colab\"/></a>"
      ]
    },
    {
      "cell_type": "markdown",
      "source": [
        "*perintah `!pip install torchsummary --quiet` digunakan dalam lingkungan Python untuk menginstal pustaka bernama `torchsummary` secara diam-diam (tanpa menampilkan output instalasi yang detail).*"
      ],
      "metadata": {
        "id": "hANns9UF2lL0"
      }
    },
    {
      "cell_type": "code",
      "execution_count": null,
      "metadata": {
        "id": "twyejFwXeMuc"
      },
      "outputs": [],
      "source": [
        "!pip install torchsummary --quiet"
      ]
    },
    {
      "cell_type": "markdown",
      "source": [
        "# **Importing the required libraries**"
      ],
      "metadata": {
        "id": "gj8Ni2Id2nGr"
      }
    },
    {
      "cell_type": "markdown",
      "source": [
        "*mengimpor modul atau pustaka Python yang diperlukan untuk melaksanakan beberapa fungsi atau tugas tertentu dalam proyek atau skrip*"
      ],
      "metadata": {
        "id": "JQw9k5Vo2vv9"
      }
    },
    {
      "cell_type": "code",
      "execution_count": null,
      "metadata": {
        "id": "GZ-vmzN6eY43"
      },
      "outputs": [],
      "source": [
        "import os\n",
        "import numpy as np\n",
        "import tensorflow as tf\n",
        "from tensorflow.keras.preprocessing.image import ImageDataGenerator\n",
        "from tensorflow.keras.applications import VGG16\n",
        "from tensorflow.keras.layers import Flatten, Dense, Dropout\n",
        "from tensorflow.keras.models import Model\n",
        "from tensorflow.keras.optimizers import Adam\n",
        "from sklearn.metrics import confusion_matrix, classification_report\n",
        "import itertools\n",
        "import matplotlib.pyplot as plt"
      ]
    },
    {
      "cell_type": "markdown",
      "source": [
        "# **Loading the data from dataset**"
      ],
      "metadata": {
        "id": "AWpW8Gac2zYa"
      }
    },
    {
      "cell_type": "markdown",
      "source": [
        "*Kode `from google.colab import drive` dan `drive.mount('/content/drive')` digunakan dalam lingkungan Google Colab untuk mengaitkan dan mengakses Google Drive dari dalam notebook Colab.*"
      ],
      "metadata": {
        "id": "BMulI8Ns2193"
      }
    },
    {
      "cell_type": "code",
      "execution_count": null,
      "metadata": {
        "id": "R-cLO2L_ehgr",
        "colab": {
          "base_uri": "https://localhost:8080/"
        },
        "outputId": "f6a160f2-6b05-4429-f0dd-7a94b99a335f"
      },
      "outputs": [
        {
          "output_type": "stream",
          "name": "stdout",
          "text": [
            "Mounted at /content/drive\n"
          ]
        }
      ],
      "source": [
        "from google.colab import drive\n",
        "drive.mount('/content/drive')"
      ]
    },
    {
      "cell_type": "markdown",
      "source": [
        "*Mendefinisikan beberapa variabel yang berisi jalur direktori untuk data pelatihan (`train_dir`), data pengujian (`test_dir`), dan data validasi (`valid_dir`). Selanjutnya, kode ini mencetak isi dari setiap direktori tersebut dan mendefinisikan variabel `CLASS_NAMES` berdasarkan isi direktori pelatihan.*\n",
        "\n",
        "\n",
        "---\n",
        "\n",
        "\n",
        "*Isi dari direktori-data yang digunakan dalam proyek, yaitu menampilkan output dari kelas Crazing', 'Pitted', 'Inclusion', 'Patches', 'Scratches', 'Rolled'*"
      ],
      "metadata": {
        "id": "El41CHkd25IW"
      }
    },
    {
      "cell_type": "code",
      "execution_count": null,
      "metadata": {
        "id": "lx7aS5Nnel-E",
        "colab": {
          "base_uri": "https://localhost:8080/"
        },
        "outputId": "cb70b671-6e4d-4e8d-99dc-8df1c7c7d755"
      },
      "outputs": [
        {
          "output_type": "stream",
          "name": "stdout",
          "text": [
            "Path Directory:  ['Thumbs.db', 'train', 'test', 'valid']\n",
            "Train Directory: ['Crazing', 'Pitted', 'Inclusion', 'Patches', 'Scratches', 'Rolled']\n",
            "valid Direcory:  ['Crazing', 'Rolled', 'Scratches', 'Patches', 'Inclusion', 'Pitted']\n",
            "Test Directory:  ['Inclusion', 'Rolled', 'Pitted', 'Patches', 'Scratches', 'Crazing']\n"
          ]
        }
      ],
      "source": [
        "train_dir = \"/content/drive/MyDrive/NEU Metal Surface Defects Data/train\"\n",
        "test_dir = \"/content/drive/MyDrive/NEU Metal Surface Defects Data/test\"\n",
        "valid_dir = \"/content/drive/MyDrive/NEU Metal Surface Defects Data/valid\"\n",
        "\n",
        "print(\"Path Directory: \", os.listdir(\"/content/drive/MyDrive/NEU Metal Surface Defects Data\"))\n",
        "print(\"Train Directory:\",os.listdir(train_dir))\n",
        "print(\"valid Direcory: \", os.listdir(valid_dir))\n",
        "print(\"Test Directory: \", os.listdir(test_dir))\n",
        "\n",
        "CLASS_NAMES = sorted(os.listdir(train_dir))"
      ]
    },
    {
      "cell_type": "markdown",
      "source": [
        "# **Image Processing**"
      ],
      "metadata": {
        "id": "6gF4Yw8529aQ"
      }
    },
    {
      "cell_type": "markdown",
      "source": [
        "*mendefinisikan beberapa parameter penting dalam sebuah program, kemungkinan besar terkait dengan pembelajaran mesin atau pemrosesan gambar.*"
      ],
      "metadata": {
        "id": "mTetd-8R3GEf"
      }
    },
    {
      "cell_type": "code",
      "source": [
        "# Define some parameters\n",
        "batch_size = 32\n",
        "image_size = (224, 224)"
      ],
      "metadata": {
        "id": "ro_eqt5SSMs3"
      },
      "execution_count": null,
      "outputs": []
    },
    {
      "cell_type": "markdown",
      "source": [
        "*menyiapkan data gambar untuk pelatihan model pembelajaran mesin menggunakan peningkatan data untuk kumpulan pelatihan dan menerapkan pra-pemrosesan yang sesuai untuk kumpulan validasi dan pengujian.*"
      ],
      "metadata": {
        "id": "Nd0CZZSe3H8L"
      }
    },
    {
      "cell_type": "code",
      "source": [
        "# Data augmentation for the training data\n",
        "train_datagen = ImageDataGenerator(\n",
        "    rescale=1./255,\n",
        "    rotation_range=20,\n",
        "    width_shift_range=0.2,\n",
        "    height_shift_range=0.2,\n",
        "    shear_range=0.2,\n",
        "    zoom_range=0.2,\n",
        "    horizontal_flip=True,\n",
        "    fill_mode='nearest'\n",
        ")\n",
        "\n",
        "# No data augmentation for validation and test data, only rescaling\n",
        "test_datagen = ImageDataGenerator(rescale=1./255)\n",
        "\n",
        "# Flow training images in batches using train_datagen generator\n",
        "train_generator = train_datagen.flow_from_directory(\n",
        "    train_dir,\n",
        "    target_size=image_size,\n",
        "    batch_size=batch_size,\n",
        "    class_mode='categorical'\n",
        ")\n",
        "\n",
        "# Flow validation images in batches using test_datagen generator\n",
        "validation_generator = test_datagen.flow_from_directory(\n",
        "    valid_dir,\n",
        "    target_size=image_size,\n",
        "    batch_size=batch_size,\n",
        "    class_mode='categorical'\n",
        ")\n",
        "\n",
        "# Flow test images in batches using test_datagen generator\n",
        "test_generator = test_datagen.flow_from_directory(\n",
        "    test_dir,\n",
        "    target_size=image_size,\n",
        "    batch_size=batch_size,\n",
        "    class_mode='categorical',\n",
        "    shuffle=False # Important for correct order in confusion matrix\n",
        ")\n"
      ],
      "metadata": {
        "colab": {
          "base_uri": "https://localhost:8080/"
        },
        "id": "YP0YzmMZN1Ti",
        "outputId": "129107be-687b-4a5b-8fb3-b93270f691d8"
      },
      "execution_count": null,
      "outputs": [
        {
          "output_type": "stream",
          "name": "stdout",
          "text": [
            "Found 1656 images belonging to 6 classes.\n",
            "Found 72 images belonging to 6 classes.\n",
            "Found 72 images belonging to 6 classes.\n"
          ]
        }
      ]
    },
    {
      "cell_type": "markdown",
      "source": [
        "*Direktori penyimpanan  VGG16*"
      ],
      "metadata": {
        "id": "Xc9njvF93R2T"
      }
    },
    {
      "cell_type": "code",
      "source": [
        "base_model = VGG16(weights='imagenet', include_top=False, input_shape=(224, 224, 3))"
      ],
      "metadata": {
        "id": "thvDbuXUSGSw",
        "colab": {
          "base_uri": "https://localhost:8080/"
        },
        "outputId": "10ebe184-c93e-4b29-873e-a56323b0b0a8"
      },
      "execution_count": null,
      "outputs": [
        {
          "output_type": "stream",
          "name": "stdout",
          "text": [
            "Downloading data from https://storage.googleapis.com/tensorflow/keras-applications/vgg16/vgg16_weights_tf_dim_ordering_tf_kernels_notop.h5\n",
            "58889256/58889256 [==============================] - 2s 0us/step\n"
          ]
        }
      ]
    },
    {
      "cell_type": "markdown",
      "source": [
        "*dilakukan pembekuan (freeze) lapisan-lapisan dari model dasar (base model) yang menggunakan arsitektur VGG16. Pembekuan ini berarti bahwa bobot (weights) dari lapisan-lapisan tersebut tidak akan diperbarui atau dilatih kembali selama proses pelatihan model. Hal ini umumnya dilakukan ketika kita menggunakan model yang telah dilatih sebelumnya dan ingin menambahkan lapisan-lapisan kustom di atasnya tanpa mempengaruhi pembelajaran pada lapisan-lapisan dasar.*"
      ],
      "metadata": {
        "id": "QmAFVPaR3eN3"
      }
    },
    {
      "cell_type": "code",
      "source": [
        "# Freeze the layers of the base model\n",
        "for layer in base_model.layers:\n",
        "    layer.trainable = False\n",
        "\n",
        "# Add custom layers on top of VGG16 base\n",
        "x = base_model.output\n",
        "x = Flatten()(x)\n",
        "x = Dense(512, activation='relu')(x)\n",
        "x = Dropout(0.5)(x)\n",
        "predictions = Dense(len(train_generator.class_indices), activation='softmax')(x)\n",
        "\n",
        "# This is the model we will train\n",
        "model = Model(inputs=base_model.input, outputs=predictions)"
      ],
      "metadata": {
        "id": "duGh_N-_N6mn"
      },
      "execution_count": null,
      "outputs": []
    },
    {
      "cell_type": "markdown",
      "source": [
        "# **Building and Training Model**"
      ],
      "metadata": {
        "id": "NzW_U7dA3ctS"
      }
    },
    {
      "cell_type": "markdown",
      "source": [
        "*Pemanggilan model.summary() adalah fungsi yang digunakan untuk mencetak ringkasan model Keras.*\n",
        "\n",
        "---\n",
        "*Pemanggilan ini dapat digunakan untuk mendapatkan gambaran umum tentang struktur dan ukuran model. Informasi ini dapat berguna untuk memahami kinerja model dan untuk memperkirakan waktu pelatihan dan kebutuhan memori.*\n",
        "\n",
        "\n"
      ],
      "metadata": {
        "id": "NDg2t3PF3tZu"
      }
    },
    {
      "cell_type": "code",
      "source": [
        "# Model summary\n",
        "model.summary()"
      ],
      "metadata": {
        "colab": {
          "base_uri": "https://localhost:8080/"
        },
        "id": "0hj9AxMrZti8",
        "outputId": "c9607128-cabf-4fde-b675-95f3319693f7"
      },
      "execution_count": null,
      "outputs": [
        {
          "output_type": "stream",
          "name": "stdout",
          "text": [
            "Model: \"model\"\n",
            "_________________________________________________________________\n",
            " Layer (type)                Output Shape              Param #   \n",
            "=================================================================\n",
            " input_1 (InputLayer)        [(None, 224, 224, 3)]     0         \n",
            "                                                                 \n",
            " block1_conv1 (Conv2D)       (None, 224, 224, 64)      1792      \n",
            "                                                                 \n",
            " block1_conv2 (Conv2D)       (None, 224, 224, 64)      36928     \n",
            "                                                                 \n",
            " block1_pool (MaxPooling2D)  (None, 112, 112, 64)      0         \n",
            "                                                                 \n",
            " block2_conv1 (Conv2D)       (None, 112, 112, 128)     73856     \n",
            "                                                                 \n",
            " block2_conv2 (Conv2D)       (None, 112, 112, 128)     147584    \n",
            "                                                                 \n",
            " block2_pool (MaxPooling2D)  (None, 56, 56, 128)       0         \n",
            "                                                                 \n",
            " block3_conv1 (Conv2D)       (None, 56, 56, 256)       295168    \n",
            "                                                                 \n",
            " block3_conv2 (Conv2D)       (None, 56, 56, 256)       590080    \n",
            "                                                                 \n",
            " block3_conv3 (Conv2D)       (None, 56, 56, 256)       590080    \n",
            "                                                                 \n",
            " block3_pool (MaxPooling2D)  (None, 28, 28, 256)       0         \n",
            "                                                                 \n",
            " block4_conv1 (Conv2D)       (None, 28, 28, 512)       1180160   \n",
            "                                                                 \n",
            " block4_conv2 (Conv2D)       (None, 28, 28, 512)       2359808   \n",
            "                                                                 \n",
            " block4_conv3 (Conv2D)       (None, 28, 28, 512)       2359808   \n",
            "                                                                 \n",
            " block4_pool (MaxPooling2D)  (None, 14, 14, 512)       0         \n",
            "                                                                 \n",
            " block5_conv1 (Conv2D)       (None, 14, 14, 512)       2359808   \n",
            "                                                                 \n",
            " block5_conv2 (Conv2D)       (None, 14, 14, 512)       2359808   \n",
            "                                                                 \n",
            " block5_conv3 (Conv2D)       (None, 14, 14, 512)       2359808   \n",
            "                                                                 \n",
            " block5_pool (MaxPooling2D)  (None, 7, 7, 512)         0         \n",
            "                                                                 \n",
            " flatten (Flatten)           (None, 25088)             0         \n",
            "                                                                 \n",
            " dense (Dense)               (None, 512)               12845568  \n",
            "                                                                 \n",
            " dropout (Dropout)           (None, 512)               0         \n",
            "                                                                 \n",
            " dense_1 (Dense)             (None, 6)                 3078      \n",
            "                                                                 \n",
            "=================================================================\n",
            "Total params: 27563334 (105.15 MB)\n",
            "Trainable params: 12848646 (49.01 MB)\n",
            "Non-trainable params: 14714688 (56.13 MB)\n",
            "_________________________________________________________________\n"
          ]
        }
      ]
    },
    {
      "cell_type": "markdown",
      "source": [
        "*Dengan melakukan kompilasi menggunakan konfigurasi ini, model siap untuk dipelajari (trained) menggunakan data pelatihan dengan menggunakan optimizer Adam, fungsi kerugian categorical crossentropy, dan mengukur akurasi sebagai metrik evaluasi*"
      ],
      "metadata": {
        "id": "wixmvjOj34kO"
      }
    },
    {
      "cell_type": "code",
      "source": [
        "model.compile(optimizer=Adam(lr=0.0001), loss='categorical_crossentropy', metrics=['accuracy'])"
      ],
      "metadata": {
        "colab": {
          "base_uri": "https://localhost:8080/"
        },
        "id": "soAqTLW1N9nc",
        "outputId": "86613682-6cdd-4e86-f108-61bb54cb33ca"
      },
      "execution_count": null,
      "outputs": [
        {
          "output_type": "stream",
          "name": "stderr",
          "text": [
            "WARNING:absl:`lr` is deprecated in Keras optimizer, please use `learning_rate` or use the legacy optimizer, e.g.,tf.keras.optimizers.legacy.Adam.\n"
          ]
        }
      ]
    },
    {
      "cell_type": "markdown",
      "source": [
        "*Pada saat melatih model, proses ini akan mengoptimalkan bobot dan bias model berdasarkan fungsi kerugian (loss function) yang telah ditentukan sebelumnya (dalam kasus ini, categorical crossentropy). Hasil pelatihan, seperti akurasi dan loss, akan disimpan dalam objek history untuk analisis lebih lanjut atau visualisasi.*"
      ],
      "metadata": {
        "id": "wXzuzX9p39Xv"
      }
    },
    {
      "cell_type": "code",
      "source": [
        "# Train the model\n",
        "history = model.fit(\n",
        "    train_generator,\n",
        "    steps_per_epoch=train_generator.samples // batch_size,\n",
        "    epochs=20,\n",
        "    validation_data=validation_generator,\n",
        "    validation_steps=validation_generator.samples // batch_size,\n",
        ")\n"
      ],
      "metadata": {
        "colab": {
          "base_uri": "https://localhost:8080/"
        },
        "id": "h8GyzR7qTGE-",
        "outputId": "e314c546-bc8f-4a0d-f6b4-c388d5c0eb63"
      },
      "execution_count": null,
      "outputs": [
        {
          "output_type": "stream",
          "name": "stdout",
          "text": [
            "Epoch 1/20\n",
            "51/51 [==============================] - 707s 14s/step - loss: 1.4323 - accuracy: 0.6564 - val_loss: 0.1600 - val_accuracy: 0.9688\n",
            "Epoch 2/20\n",
            "51/51 [==============================] - 29s 575ms/step - loss: 0.3789 - accuracy: 0.8633 - val_loss: 0.0437 - val_accuracy: 1.0000\n",
            "Epoch 3/20\n",
            "51/51 [==============================] - 30s 578ms/step - loss: 0.3037 - accuracy: 0.8935 - val_loss: 0.0566 - val_accuracy: 0.9844\n",
            "Epoch 4/20\n",
            "51/51 [==============================] - 30s 586ms/step - loss: 0.3023 - accuracy: 0.8972 - val_loss: 0.0603 - val_accuracy: 0.9844\n",
            "Epoch 5/20\n",
            "51/51 [==============================] - 30s 580ms/step - loss: 0.2344 - accuracy: 0.9187 - val_loss: 0.0485 - val_accuracy: 0.9844\n",
            "Epoch 6/20\n",
            "51/51 [==============================] - 32s 619ms/step - loss: 0.2339 - accuracy: 0.9206 - val_loss: 0.0110 - val_accuracy: 1.0000\n",
            "Epoch 7/20\n",
            "51/51 [==============================] - 30s 574ms/step - loss: 0.2022 - accuracy: 0.9317 - val_loss: 0.0291 - val_accuracy: 1.0000\n",
            "Epoch 8/20\n",
            "51/51 [==============================] - 30s 590ms/step - loss: 0.2404 - accuracy: 0.9175 - val_loss: 0.0474 - val_accuracy: 1.0000\n",
            "Epoch 9/20\n",
            "51/51 [==============================] - 30s 582ms/step - loss: 0.2164 - accuracy: 0.9230 - val_loss: 0.0204 - val_accuracy: 1.0000\n",
            "Epoch 10/20\n",
            "51/51 [==============================] - 29s 573ms/step - loss: 0.1999 - accuracy: 0.9280 - val_loss: 0.0078 - val_accuracy: 1.0000\n",
            "Epoch 11/20\n",
            "51/51 [==============================] - 28s 556ms/step - loss: 0.1996 - accuracy: 0.9280 - val_loss: 0.0308 - val_accuracy: 0.9844\n",
            "Epoch 12/20\n",
            "51/51 [==============================] - 28s 544ms/step - loss: 0.2211 - accuracy: 0.9206 - val_loss: 0.0234 - val_accuracy: 1.0000\n",
            "Epoch 13/20\n",
            "51/51 [==============================] - 29s 572ms/step - loss: 0.2014 - accuracy: 0.9206 - val_loss: 0.0297 - val_accuracy: 0.9844\n",
            "Epoch 14/20\n",
            "51/51 [==============================] - 30s 584ms/step - loss: 0.2141 - accuracy: 0.9261 - val_loss: 0.0169 - val_accuracy: 1.0000\n",
            "Epoch 15/20\n",
            "51/51 [==============================] - 29s 571ms/step - loss: 0.1828 - accuracy: 0.9378 - val_loss: 0.0177 - val_accuracy: 1.0000\n",
            "Epoch 16/20\n",
            "51/51 [==============================] - 30s 591ms/step - loss: 0.1699 - accuracy: 0.9384 - val_loss: 0.0167 - val_accuracy: 1.0000\n",
            "Epoch 17/20\n",
            "51/51 [==============================] - 29s 570ms/step - loss: 0.1753 - accuracy: 0.9372 - val_loss: 0.0110 - val_accuracy: 1.0000\n",
            "Epoch 18/20\n",
            "51/51 [==============================] - 29s 558ms/step - loss: 0.2055 - accuracy: 0.9292 - val_loss: 0.0200 - val_accuracy: 1.0000\n",
            "Epoch 19/20\n",
            "51/51 [==============================] - 30s 575ms/step - loss: 0.1806 - accuracy: 0.9384 - val_loss: 0.0089 - val_accuracy: 1.0000\n",
            "Epoch 20/20\n",
            "51/51 [==============================] - 30s 588ms/step - loss: 0.1661 - accuracy: 0.9366 - val_loss: 0.0040 - val_accuracy: 1.0000\n"
          ]
        }
      ]
    },
    {
      "cell_type": "markdown",
      "source": [
        "*Hasil pelatihan dan validasi akan disimpan dalam objek `history`, yang dapat gunakan nantinya untuk menganalisis dan memvisualisasikan kinerja model. Dengan demikian, setelah 20 epoch, model akan memiliki parameter yang disesuaikan dengan data pelatihan dan dapat digunakan untuk melakukan prediksi pada data baru. Hasil outpunya akan menampilkan loss, akurasi, validasi akurasi, dan loss akurasi yang dimana menjadi tolak ukur dalam penggunaan model yang akan digunakan.*"
      ],
      "metadata": {
        "id": "eOWXoBwC4H8n"
      }
    },
    {
      "cell_type": "markdown",
      "source": [
        "# **Test the model on test dataset**"
      ],
      "metadata": {
        "id": "2UspyE8m4Jiu"
      }
    },
    {
      "cell_type": "markdown",
      "source": [
        "*Menguji model pada dataset uji (test set) dan mengevaluasi kinerjanya. Menggunakan metode `evaluate` pada model untuk mengevaluasi performanya pada dataset uji*\n",
        "\n",
        "---\n",
        "*Fungsi `evaluate` akan mengembalikan dua nilai: nilai kerugian (loss) pada dataset uji dan akurasi pada dataset uji.*\n",
        "\n",
        "---\n",
        "*Akurasi pengujian adalah persentase data uji yang diklasifikasikan dengan benar oleh model. Dengan mencetak nilai akurasi, dapat melihat seberapa baik model dapat menggeneralisasi pada data baru yang belum pernah dilihat sebelumnya. Sehingga, output yang ditampilkan yaitu akurasi 1. Akurasi tersebut dapat dikategorikan tinggi sehingga model dikatakan baik.*\n"
      ],
      "metadata": {
        "id": "Mx5qzvgD4O8s"
      }
    },
    {
      "cell_type": "code",
      "source": [
        "# Test the model\n",
        "test_loss, test_acc = model.evaluate(test_generator, steps=len(test_generator))\n",
        "print(\"Test Loss: \", test_loss)\n",
        "print(\"Test Accuracy: \", test_acc)"
      ],
      "metadata": {
        "colab": {
          "base_uri": "https://localhost:8080/"
        },
        "id": "lnG80KZdcdSo",
        "outputId": "283f9686-c807-4308-d37f-6d670f726ade"
      },
      "execution_count": null,
      "outputs": [
        {
          "output_type": "stream",
          "name": "stdout",
          "text": [
            "3/3 [==============================] - 22s 11s/step - loss: 0.0311 - accuracy: 1.0000\n",
            "Test Loss:  0.031106531620025635\n",
            "Test Accuracy:  1.0\n"
          ]
        }
      ]
    },
    {
      "cell_type": "markdown",
      "source": [
        "# **Plot Confunsion Matrix**"
      ],
      "metadata": {
        "id": "2Oj0gfRm4pMZ"
      }
    },
    {
      "cell_type": "markdown",
      "source": [
        "*Membuat dan memvisualisasikan confusion matrix, yang merupakan alat evaluasi kinerja model klasifikasi.*\n",
        "\n",
        "---\n",
        "*Dengan memahami confusion matrix, dapat melihat dengan lebih rinci seberapa baik melakukan klasifikasi untuk setiap kelas pada dataset uji*.\n",
        "\n"
      ],
      "metadata": {
        "id": "yMu7Unqw4p-w"
      }
    },
    {
      "cell_type": "code",
      "source": [
        "# Predict the values from the test dataset\n",
        "Y_pred = model.predict(test_generator, test_generator.samples // batch_size + 1)\n",
        "# Convert predictions classes to one hot vectors\n",
        "Y_pred_classes = np.argmax(Y_pred, axis=1)\n",
        "# Convert validation observations to one hot vectors\n",
        "Y_true = test_generator.classes\n",
        "\n",
        "# Compute the confusion matrix\n",
        "confusion_mtx = confusion_matrix(Y_true, Y_pred_classes)\n",
        "\n",
        "# Plot the confusion matrix\n",
        "plt.figure(figsize=(10, 8))\n",
        "sns.heatmap(confusion_mtx, annot=True, fmt='d', cmap=plt.cm.Blues, cbar=False, linewidths=.5)\n",
        "plt.title('Confusion Matrix')\n",
        "tick_marks = np.arange(len(CLASS_NAMES))\n",
        "plt.xticks(tick_marks + 0.5, CLASS_NAMES, rotation=90)\n",
        "plt.yticks(tick_marks + 0.5, CLASS_NAMES, rotation=0)\n",
        "plt.xlabel('Predicted label')\n",
        "plt.ylabel('True label')\n",
        "\n",
        "# Add a side color bar to show the scale\n",
        "cbar = plt.colorbar(plt.cm.ScalarMappable(cmap=plt.cm.Blues), fraction=0.046, pad=0.04)\n",
        "cbar.set_label('Number of Predictions', rotation=270, labelpad=25)\n",
        "\n",
        "# Tight layout to avoid overlap\n",
        "plt.tight_layout()\n",
        "\n",
        "# Show the plot\n",
        "plt.show()\n",
        "\n",
        "# Print the classification report\n",
        "print('Classification Report')\n",
        "print(classification_report(Y_true, Y_pred_classes, target_names=CLASS_NAMES))"
      ],
      "metadata": {
        "colab": {
          "base_uri": "https://localhost:8080/",
          "height": 1000
        },
        "id": "5-is03cjN-WZ",
        "outputId": "72eaa207-ccf5-4941-eca3-37a334a041f3"
      },
      "execution_count": null,
      "outputs": [
        {
          "output_type": "stream",
          "name": "stdout",
          "text": [
            "3/3 [==============================] - 1s 196ms/step\n"
          ]
        },
        {
          "output_type": "stream",
          "name": "stderr",
          "text": [
            "<ipython-input-14-0466beba25f1>:22: MatplotlibDeprecationWarning: Unable to determine Axes to steal space for Colorbar. Using gca(), but will raise in the future. Either provide the *cax* argument to use as the Axes for the Colorbar, provide the *ax* argument to steal space from it, or add *mappable* to an Axes.\n",
            "  cbar = plt.colorbar(plt.cm.ScalarMappable(cmap=plt.cm.Blues), fraction=0.046, pad=0.04)\n"
          ]
        },
        {
          "output_type": "display_data",
          "data": {
            "text/plain": [
              "<Figure size 1000x800 with 2 Axes>"
            ],
            "image/png": "[encoded data removed]"
          },
          "metadata": {}
        },
        {
          "output_type": "stream",
          "name": "stdout",
          "text": [
            "Classification Report\n",
            "              precision    recall  f1-score   support\n",
            "\n",
            "     Crazing       1.00      1.00      1.00        12\n",
            "   Inclusion       1.00      1.00      1.00        12\n",
            "     Patches       1.00      1.00      1.00        12\n",
            "      Pitted       1.00      1.00      1.00        12\n",
            "      Rolled       1.00      1.00      1.00        12\n",
            "   Scratches       1.00      1.00      1.00        12\n",
            "\n",
            "    accuracy                           1.00        72\n",
            "   macro avg       1.00      1.00      1.00        72\n",
            "weighted avg       1.00      1.00      1.00        72\n",
            "\n"
          ]
        }
      ]
    },
    {
      "cell_type": "markdown",
      "source": [
        "# **KESIMPULAN**"
      ],
      "metadata": {
        "id": "DdqNgezR4tZY"
      }
    },
    {
      "cell_type": "markdown",
      "source": [
        "*Kesimpulan yang diperoleh yaitu Implementasi dari model VVG16memiliki performa yang baik dalam mengklasifikasi jenis cacat pada permukaan logam neu. Penelitian ini didapatkan nilai accuracy 100% hasil itu membuktikan bahwa model VVG16 memiliki kinerja yang baik dalam mengklasifikasi gambar cacat dari permukaan logam neu.*"
      ],
      "metadata": {
        "id": "1r3Kx4ZU4x9q"
      }
    }
  ],
  "metadata": {
    "accelerator": "GPU",
    "colab": {
      "provenance": [],
      "gpuType": "T4",
      "include_colab_link": true
    },
    "kernelspec": {
      "display_name": "Python 3",
      "name": "python3"
    },
    "language_info": {
      "name": "python"
    }
  },
  "nbformat": 4,
  "nbformat_minor": 0
}